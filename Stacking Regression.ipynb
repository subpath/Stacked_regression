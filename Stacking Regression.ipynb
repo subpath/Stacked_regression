{
 "cells": [
  {
   "cell_type": "markdown",
   "metadata": {},
   "source": [
    "# Stacked regression\n",
    "\n",
    "[Kaggle's House Prices: Advanced Regression Techniques](https://www.kaggle.com/c/house-prices-advanced-regression-techniques) challenge.\n",
    "\n",
    "Dumb end to end solution."
   ]
  },
  {
   "cell_type": "code",
   "execution_count": 1,
   "metadata": {
    "collapsed": false
   },
   "outputs": [
    {
     "name": "stdout",
     "output_type": "stream",
     "text": [
      "Populating the interactive namespace from numpy and matplotlib\n"
     ]
    }
   ],
   "source": [
    "%pylab inline\n",
    "import pandas as pd\n",
    "import numpy as np\n",
    "import seaborn as sns\n",
    "from sklearn.model_selection import cross_val_score\n",
    "from sklearn.linear_model import LinearRegression\n",
    "\n",
    "data = pd.read_csv('train.csv')"
   ]
  },
  {
   "cell_type": "code",
   "execution_count": 2,
   "metadata": {
    "collapsed": false,
    "scrolled": true
   },
   "outputs": [
    {
     "data": {
      "text/html": [
       "<div>\n",
       "<style scoped>\n",
       "    .dataframe tbody tr th:only-of-type {\n",
       "        vertical-align: middle;\n",
       "    }\n",
       "\n",
       "    .dataframe tbody tr th {\n",
       "        vertical-align: top;\n",
       "    }\n",
       "\n",
       "    .dataframe thead th {\n",
       "        text-align: right;\n",
       "    }\n",
       "</style>\n",
       "<table border=\"1\" class=\"dataframe\">\n",
       "  <thead>\n",
       "    <tr style=\"text-align: right;\">\n",
       "      <th></th>\n",
       "      <th>% NULL</th>\n",
       "    </tr>\n",
       "  </thead>\n",
       "  <tbody>\n",
       "    <tr>\n",
       "      <th>PoolQC</th>\n",
       "      <td>0.995205</td>\n",
       "    </tr>\n",
       "    <tr>\n",
       "      <th>MiscFeature</th>\n",
       "      <td>0.963014</td>\n",
       "    </tr>\n",
       "    <tr>\n",
       "      <th>Alley</th>\n",
       "      <td>0.937671</td>\n",
       "    </tr>\n",
       "    <tr>\n",
       "      <th>Fence</th>\n",
       "      <td>0.807534</td>\n",
       "    </tr>\n",
       "    <tr>\n",
       "      <th>FireplaceQu</th>\n",
       "      <td>0.472603</td>\n",
       "    </tr>\n",
       "    <tr>\n",
       "      <th>LotFrontage</th>\n",
       "      <td>0.177397</td>\n",
       "    </tr>\n",
       "    <tr>\n",
       "      <th>GarageYrBlt</th>\n",
       "      <td>0.055479</td>\n",
       "    </tr>\n",
       "    <tr>\n",
       "      <th>GarageType</th>\n",
       "      <td>0.055479</td>\n",
       "    </tr>\n",
       "    <tr>\n",
       "      <th>GarageFinish</th>\n",
       "      <td>0.055479</td>\n",
       "    </tr>\n",
       "    <tr>\n",
       "      <th>GarageQual</th>\n",
       "      <td>0.055479</td>\n",
       "    </tr>\n",
       "    <tr>\n",
       "      <th>GarageCond</th>\n",
       "      <td>0.055479</td>\n",
       "    </tr>\n",
       "    <tr>\n",
       "      <th>BsmtFinType2</th>\n",
       "      <td>0.026027</td>\n",
       "    </tr>\n",
       "    <tr>\n",
       "      <th>BsmtExposure</th>\n",
       "      <td>0.026027</td>\n",
       "    </tr>\n",
       "    <tr>\n",
       "      <th>BsmtFinType1</th>\n",
       "      <td>0.025342</td>\n",
       "    </tr>\n",
       "    <tr>\n",
       "      <th>BsmtCond</th>\n",
       "      <td>0.025342</td>\n",
       "    </tr>\n",
       "    <tr>\n",
       "      <th>BsmtQual</th>\n",
       "      <td>0.025342</td>\n",
       "    </tr>\n",
       "    <tr>\n",
       "      <th>MasVnrArea</th>\n",
       "      <td>0.005479</td>\n",
       "    </tr>\n",
       "    <tr>\n",
       "      <th>MasVnrType</th>\n",
       "      <td>0.005479</td>\n",
       "    </tr>\n",
       "    <tr>\n",
       "      <th>Electrical</th>\n",
       "      <td>0.000685</td>\n",
       "    </tr>\n",
       "  </tbody>\n",
       "</table>\n",
       "</div>"
      ],
      "text/plain": [
       "                % NULL\n",
       "PoolQC        0.995205\n",
       "MiscFeature   0.963014\n",
       "Alley         0.937671\n",
       "Fence         0.807534\n",
       "FireplaceQu   0.472603\n",
       "LotFrontage   0.177397\n",
       "GarageYrBlt   0.055479\n",
       "GarageType    0.055479\n",
       "GarageFinish  0.055479\n",
       "GarageQual    0.055479\n",
       "GarageCond    0.055479\n",
       "BsmtFinType2  0.026027\n",
       "BsmtExposure  0.026027\n",
       "BsmtFinType1  0.025342\n",
       "BsmtCond      0.025342\n",
       "BsmtQual      0.025342\n",
       "MasVnrArea    0.005479\n",
       "MasVnrType    0.005479\n",
       "Electrical    0.000685"
      ]
     },
     "execution_count": 2,
     "metadata": {},
     "output_type": "execute_result"
    }
   ],
   "source": [
    "clmns = data.columns[data.isnull().any()]\n",
    "missed = pd.DataFrame(data[clmns].isnull().sum().sort_values(ascending=False) / data.shape[0], columns=['% NULL'])\n",
    "missed"
   ]
  },
  {
   "cell_type": "code",
   "execution_count": 3,
   "metadata": {},
   "outputs": [],
   "source": [
    "data.drop(missed[missed['% NULL'] > 0.80].index, 1, inplace=True)"
   ]
  },
  {
   "cell_type": "code",
   "execution_count": 4,
   "metadata": {},
   "outputs": [],
   "source": [
    "data = data.select_dtypes(include=['int', 'float'])"
   ]
  },
  {
   "cell_type": "code",
   "execution_count": 9,
   "metadata": {},
   "outputs": [],
   "source": [
    "data = data.fillna(data.mean())"
   ]
  },
  {
   "cell_type": "code",
   "execution_count": 37,
   "metadata": {},
   "outputs": [
    {
     "data": {
      "text/plain": [
       "<matplotlib.axes._subplots.AxesSubplot at 0x1a17c47d68>"
      ]
     },
     "execution_count": 37,
     "metadata": {},
     "output_type": "execute_result"
    },
    {
     "data": {
      "image/png": "[encoded data removed]",
      "text/plain": [
       "<Figure size 432x288 with 2 Axes>"
      ]
     },
     "metadata": {
      "needs_background": "light"
     },
     "output_type": "display_data"
    }
   ],
   "source": [
    "# удалил колонки Id и целевую переменную SalePrice, так как это не фичи\n",
    "# по хитмап мне ничего не понятно, поэтому ниже я нашел скоррелированные пары\n",
    "sns.heatmap(data.drop(['Id', 'SalePrice'], axis=1).corr())"
   ]
  },
  {
   "cell_type": "code",
   "execution_count": 39,
   "metadata": {},
   "outputs": [
    {
     "data": {
      "text/plain": [
       "GarageCars    GarageArea      0.882475\n",
       "GarageArea    GarageCars      0.882475\n",
       "TotRmsAbvGrd  GrLivArea       0.825489\n",
       "GrLivArea     TotRmsAbvGrd    0.825489\n",
       "TotalBsmtSF   1stFlrSF        0.819530\n",
       "dtype: float64"
      ]
     },
     "execution_count": 39,
     "metadata": {},
     "output_type": "execute_result"
    }
   ],
   "source": [
    "# найти пары самых скоррелированных колонок\n",
    "# я это просто загуглил\n",
    "# пропустил первые 36 колонок, потому что это диагональ в матрице корреляции - корреляция колонки к колонке А равна 1\n",
    "# и для примера взял топ 5 пар\n",
    "data.drop(['Id', 'SalePrice'], axis=1).corr().abs().unstack().sort_values(kind=\"quicksort\", ascending=False)[36:][:5]"
   ]
  },
  {
   "cell_type": "code",
   "execution_count": 42,
   "metadata": {},
   "outputs": [],
   "source": [
    "# То есть выходит, что пара GarageCars и GarageArea могут мешать модели делать предсказания, \n",
    "# давай уберем одну из этих колонок и оставим колонку с большим вкладом\n",
    "\n",
    "column_A = 'GarageCars'\n",
    "column_B = 'GarageArea'\n",
    "\n",
    "# X_A - все фичи, кроме A\n",
    "# X_B - все фичи, кроме В\n",
    "\n",
    "model = LinearRegression()\n",
    "metrics_without_A = cross_val_score(model, \n",
    "                                    X = data.drop(['SalePrice', 'Id', column_A ], axis=1).to_numpy(), \n",
    "                                    y = data['SalePrice'].to_numpy(), \n",
    "                                    cv = 21, # это сколько раз нужно посчитать\n",
    "                                    n_jobs = 4, # параллельно на 4 ядра CPU\n",
    "                                    scoring='r2')"
   ]
  },
  {
   "cell_type": "code",
   "execution_count": 43,
   "metadata": {},
   "outputs": [
    {
     "data": {
      "text/plain": [
       "array([ 0.86765861,  0.79700353,  0.85662185,  0.85040645,  0.88937989,\n",
       "        0.87526277,  0.8522576 ,  0.59039643,  0.8989565 ,  0.78844489,\n",
       "        0.8854049 ,  0.80800231,  0.7970408 ,  0.83379928,  0.88059095,\n",
       "        0.75436409,  0.69714012,  0.81606311, -0.52953672,  0.83349023,\n",
       "        0.80017445])"
      ]
     },
     "execution_count": 43,
     "metadata": {},
     "output_type": "execute_result"
    }
   ],
   "source": [
    "# получил такой array\n",
    "metrics_without_A"
   ]
  },
  {
   "cell_type": "code",
   "execution_count": 44,
   "metadata": {},
   "outputs": [],
   "source": [
    "# делаю аналогично для колонки В\n",
    "model = LinearRegression()\n",
    "metrics_without_B = cross_val_score(model, \n",
    "                                    X = data.drop(['SalePrice', 'Id', column_B ], axis=1).to_numpy(), \n",
    "                                    y = data['SalePrice'].to_numpy(), \n",
    "                                    cv = 21, # это сколько раз нужно посчитать\n",
    "                                    n_jobs = 4, # параллельно на 4 ядра CPU\n",
    "                                    scoring='r2')"
   ]
  },
  {
   "cell_type": "code",
   "execution_count": 45,
   "metadata": {},
   "outputs": [
    {
     "data": {
      "text/plain": [
       "array([ 0.86238445,  0.79641014,  0.85551214,  0.85719853,  0.89063898,\n",
       "        0.87101608,  0.85322873,  0.58514003,  0.90295979,  0.78928199,\n",
       "        0.88687119,  0.79883182,  0.79588036,  0.81862473,  0.88369171,\n",
       "        0.75933677,  0.70148541,  0.81399305, -0.4724277 ,  0.84243054,\n",
       "        0.81535044])"
      ]
     },
     "execution_count": 45,
     "metadata": {},
     "output_type": "execute_result"
    }
   ],
   "source": [
    "metrics_without_B"
   ]
  },
  {
   "cell_type": "code",
   "execution_count": 46,
   "metadata": {},
   "outputs": [
    {
     "data": {
      "text/plain": [
       "array([ 0.00527416,  0.00059339,  0.00110971, -0.00679208, -0.00125909,\n",
       "        0.00424669, -0.00097113,  0.0052564 , -0.00400329, -0.0008371 ,\n",
       "       -0.00146629,  0.00917049,  0.00116045,  0.01517455, -0.00310076,\n",
       "       -0.00497267, -0.00434529,  0.00207006, -0.05710902, -0.00894031,\n",
       "       -0.01517599])"
      ]
     },
     "execution_count": 46,
     "metadata": {},
     "output_type": "execute_result"
    }
   ],
   "source": [
    "# так как это numpy array, то можно легко найти поэлементную разницу\n",
    "diff = metrics_without_A - metrics_without_B\n",
    "diff\n",
    "# получается где-то лучше, где-то хуже (смотри на знак)\n",
    "# надо доказать, что есть значимое отличие от нуля"
   ]
  },
  {
   "cell_type": "code",
   "execution_count": 52,
   "metadata": {},
   "outputs": [
    {
     "data": {
      "text/plain": [
       "(-0.010781639905188801, 0.0045990544022645585)"
      ]
     },
     "execution_count": 52,
     "metadata": {},
     "output_type": "execute_result"
    }
   ],
   "source": [
    "# вот теория\n",
    "# https://www.itl.nist.gov/div898/handbook/eda/section3/eda352.htm\n",
    "# посчитаем доверительный интервал с уровнем уверенности 98% \n",
    "# Наша нулевая гиппотеза - результаты одинаковые\n",
    "# Альтернативная - без одной из колонок лучше\n",
    "# Если 0 НЕ будет входить в полученный интервал, то мы можем отбросить \n",
    "# нулевую гиппотезу с p-value = 2% \n",
    "# Если входит, то ничего нельзя сказать точно\n",
    "\n",
    "from scipy.stats import sem,t\n",
    "\n",
    "def confidence_interval(vector:np.array, confidence:float=0.98):\n",
    "    \"\"\"Calculate confidence interval.\"\"\"\n",
    "    m, se = np.mean(vector), sem(vector)\n",
    "    h = se*t._ppf((1+confidence)/2., len(vector)-1)\n",
    "    return m-h, m+h\n",
    "\n",
    "confidence_interval(diff)"
   ]
  },
  {
   "cell_type": "code",
   "execution_count": null,
   "metadata": {},
   "outputs": [],
   "source": [
    "# 0 входит в наш интервал, значит нельзя сказать, что лучше без колонки А, чем В и наоборот. \n",
    "# посчитай аналогичным способом лучше ли вообще без этих колонок, чем с обеими"
   ]
  },
  {
   "cell_type": "raw",
   "metadata": {},
   "source": [
    "## Save prredictions"
   ]
  },
  {
   "cell_type": "raw",
   "metadata": {},
   "source": [
    "test_data_submition = pd.read_csv('test.csv')\n",
    "test_data_submition = test_data_submition[features]\n",
    "test_data_submition = test_data_submition.fillna(test_data_submition.median())\n",
    "\n",
    "prediction = np.expm1(model.predict(test_data_submition.to_numpy()))\n",
    "\n",
    "y_predict_test_data = pd.DataFrame({'Id': test_data_submition['Id'],\n",
    "                                    'SalePrice':prediction})\n",
    "y_predict_test_data.to_csv(\"Submition_Stack.csv\", index=False)"
   ]
  }
 ],
 "metadata": {
  "kernelspec": {
   "display_name": "Python 3",
   "language": "python",
   "name": "python3"
  },
  "language_info": {
   "codemirror_mode": {
    "name": "ipython",
    "version": 3
   },
   "file_extension": ".py",
   "mimetype": "text/x-python",
   "name": "python",
   "nbconvert_exporter": "python",
   "pygments_lexer": "ipython3",
   "version": "3.7.3"
  }
 },
 "nbformat": 4,
 "nbformat_minor": 2
}
